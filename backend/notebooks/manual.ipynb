{
 "cells": [
  {
   "cell_type": "code",
   "execution_count": 3,
   "metadata": {},
   "outputs": [],
   "source": [
    "import os\n",
    "from chunker import PDFChunker\n",
    "from vectorizer import TextVectorizer\n",
    "from retriever import Retriever\n",
    "from generator import Generator\n",
    "from tqdm import tqdm\n",
    "import time\n",
    "import numpy as np\n",
    "from mistralai import Mistral\n",
    "import fitz\n",
    "import re"
   ]
  },
  {
   "cell_type": "markdown",
   "metadata": {},
   "source": [
    "# Explore PDF"
   ]
  },
  {
   "cell_type": "code",
   "execution_count": 178,
   "metadata": {},
   "outputs": [],
   "source": [
    "doc = fitz.open(\"../data/PDM_Porto_Aviso n.º 1934_2023.pdf\")\n",
    "metadata = doc.metadata\n",
    "text = \"\"\n",
    "for page in doc:\n",
    "    text += page.get_text(\"text\")  # Options: \"text\", \"html\", \"xml\""
   ]
  },
  {
   "cell_type": "code",
   "execution_count": 184,
   "metadata": {},
   "outputs": [],
   "source": [
    "text = text.split('Republicação do Regulamento do Plano Diretor Municipal do Porto')[1]"
   ]
  },
  {
   "cell_type": "code",
   "execution_count": 279,
   "metadata": {},
   "outputs": [],
   "source": [
    "import re\n",
    "\n",
    "# Split the text by the pattern \"Artigo\" followed by some numbering\n",
    "pattern = r\"Artigo[\\s\\S]*?(?=TÍTULO|CAPÍTULO|SECÇÃO|SUBSECÇÃO|Artigo|ANEXOS)\"\n",
    "matches = re.findall(pattern, text)"
   ]
  },
  {
   "cell_type": "code",
   "execution_count": 280,
   "metadata": {},
   "outputs": [],
   "source": [
    "clean_matches = []\n",
    "\n",
    "for match in matches:\n",
    "    # The regex pattern to match the target text\n",
    "    pattern = r\"N\\.º 20\\s+27 de janeiro de 2023\\s+Pág\\. .*?\\s+Diário da República, 2\\.\\ª série\\s+PARTE .*\"\n",
    "\n",
    "    # Remove the matched pattern\n",
    "    clean_match = re.sub(pattern, '', match)\n",
    "    clean_matches.append(clean_match)"
   ]
  },
  {
   "cell_type": "markdown",
   "metadata": {},
   "source": [
    "# Chunker"
   ]
  },
  {
   "cell_type": "code",
   "execution_count": 4,
   "metadata": {},
   "outputs": [],
   "source": [
    "chunker = PDFChunker('../data/PDM_Porto_Aviso n.º 1934_2023.pdf')"
   ]
  },
  {
   "cell_type": "code",
   "execution_count": 5,
   "metadata": {},
   "outputs": [],
   "source": [
    "chunks = chunker.split_pdf_by_articles()"
   ]
  },
  {
   "cell_type": "code",
   "execution_count": 6,
   "metadata": {},
   "outputs": [
    {
     "data": {
      "text/plain": [
       "166"
      ]
     },
     "execution_count": 6,
     "metadata": {},
     "output_type": "execute_result"
    }
   ],
   "source": [
    "len(chunks)"
   ]
  },
  {
   "cell_type": "code",
   "execution_count": 7,
   "metadata": {},
   "outputs": [
    {
     "data": {
      "text/plain": [
       "[232,\n",
       " 234,\n",
       " 805,\n",
       " 182,\n",
       " 431,\n",
       " 466,\n",
       " 240,\n",
       " 63,\n",
       " 29,\n",
       " 47,\n",
       " 141,\n",
       " 61,\n",
       " 64,\n",
       " 220,\n",
       " 144,\n",
       " 420,\n",
       " 66,\n",
       " 66,\n",
       " 102,\n",
       " 129,\n",
       " 65,\n",
       " 74,\n",
       " 128,\n",
       " 450,\n",
       " 57,\n",
       " 80,\n",
       " 533,\n",
       " 228,\n",
       " 49,\n",
       " 284,\n",
       " 62,\n",
       " 172,\n",
       " 33,\n",
       " 27,\n",
       " 70,\n",
       " 44,\n",
       " 63,\n",
       " 44,\n",
       " 46,\n",
       " 173,\n",
       " 150,\n",
       " 93,\n",
       " 75,\n",
       " 82,\n",
       " 51,\n",
       " 29,\n",
       " 169,\n",
       " 33,\n",
       " 30,\n",
       " 56,\n",
       " 135,\n",
       " 62,\n",
       " 18,\n",
       " 54,\n",
       " 29,\n",
       " 28,\n",
       " 129,\n",
       " 108,\n",
       " 118,\n",
       " 106,\n",
       " 106,\n",
       " 230,\n",
       " 98,\n",
       " 140,\n",
       " 77,\n",
       " 125,\n",
       " 151,\n",
       " 149,\n",
       " 102,\n",
       " 229,\n",
       " 254,\n",
       " 119,\n",
       " 162,\n",
       " 54,\n",
       " 129,\n",
       " 257,\n",
       " 258,\n",
       " 2606,\n",
       " 201,\n",
       " 70,\n",
       " 55,\n",
       " 86,\n",
       " 58,\n",
       " 42,\n",
       " 178,\n",
       " 129,\n",
       " 84,\n",
       " 207,\n",
       " 97,\n",
       " 146,\n",
       " 83,\n",
       " 123,\n",
       " 346,\n",
       " 45,\n",
       " 57,\n",
       " 29,\n",
       " 29,\n",
       " 120,\n",
       " 59,\n",
       " 109,\n",
       " 85,\n",
       " 99,\n",
       " 67,\n",
       " 144,\n",
       " 264,\n",
       " 89,\n",
       " 61,\n",
       " 210,\n",
       " 84,\n",
       " 180,\n",
       " 130,\n",
       " 149,\n",
       " 199,\n",
       " 232,\n",
       " 358,\n",
       " 114,\n",
       " 178,\n",
       " 188,\n",
       " 79,\n",
       " 205,\n",
       " 907,\n",
       " 389,\n",
       " 190,\n",
       " 86,\n",
       " 226,\n",
       " 134,\n",
       " 61,\n",
       " 239,\n",
       " 140,\n",
       " 91,\n",
       " 161,\n",
       " 114,\n",
       " 113,\n",
       " 134,\n",
       " 71,\n",
       " 329,\n",
       " 263,\n",
       " 46,\n",
       " 115,\n",
       " 84,\n",
       " 237,\n",
       " 123,\n",
       " 133,\n",
       " 181,\n",
       " 74,\n",
       " 75,\n",
       " 95,\n",
       " 94,\n",
       " 82,\n",
       " 79,\n",
       " 101,\n",
       " 183,\n",
       " 96,\n",
       " 74,\n",
       " 231,\n",
       " 108,\n",
       " 128,\n",
       " 284,\n",
       " 160,\n",
       " 194,\n",
       " 171,\n",
       " 3257,\n",
       " 53,\n",
       " 78,\n",
       " 42,\n",
       " 26]"
      ]
     },
     "execution_count": 7,
     "metadata": {},
     "output_type": "execute_result"
    }
   ],
   "source": [
    "[len(chunk.split()) for chunk in chunks]"
   ]
  },
  {
   "cell_type": "code",
   "execution_count": 8,
   "metadata": {},
   "outputs": [],
   "source": [
    "for i, chunk in enumerate(chunks):\n",
    "    if len(chunk.split()) > 4096:\n",
    "        print(i)"
   ]
  },
  {
   "cell_type": "code",
   "execution_count": 9,
   "metadata": {},
   "outputs": [
    {
     "name": "stdout",
     "output_type": "stream",
     "text": [
      "Chunks saved to ../data/artigos.txt\n"
     ]
    }
   ],
   "source": [
    "chunker.save_chunks_to_file(chunks, '../data/artigos.txt')"
   ]
  },
  {
   "cell_type": "code",
   "execution_count": 17,
   "metadata": {},
   "outputs": [
    {
     "data": {
      "text/plain": [
       "'Artigo 3.º\\nDefinições\\nPara além dos conceitos definidos na legislação e regulamentos aplicáveis, para efeitos do \\npresente Regulamento são adotados os seguintes conceitos técnicos:\\na) Alinhamento dominante — o alinhamento dos edifícios ou vedações com maior extensão \\nnuma dada frente urbana;\\nb) Alinhamento dominante de tardoz — o alinhamento das fachadas de tardoz dos corpos \\ndominantes dos edifícios que constituem a frente urbana, com maior extensão;\\n\\nc) Altura dominante das fachadas — é a que apresenta maior extensão ao longo do alinhamento \\nurbano entre arruamentos concorrentes;\\nd) Área de edificação, também designada ae — o somatório da área de cada um dos pisos, \\nexpresso em metros quadrados (m2), de todos os edifícios que existem ou podem ser realizados \\nna(s) parcela(s), com exclusão de:\\ni) Terraços descobertos, varandas, desde que não envidraçadas, e balcões abertos para o \\nexterior;\\nii) Espaços livres de uso público cobertos pelas edificações;\\niii) Sótão sem pé -direito regulamentar para fins habitacionais;\\niv) Arrecadações em cave afetas às diversas unidades de utilização do edifício;\\nv) Estacionamento instalado nas caves dos edifícios;\\nvi) Áreas técnicas acima ou abaixo do solo (posto de transformação, central térmica, compar-\\ntimentos de recolha de lixo, casa das máquinas dos elevadores, depósitos de água e central de \\nbombagem, entre outras).\\ne) Cave — Edificação abaixo do piso 1 ou da cota do terreno confinante com a via pública;\\nf) Cedência média — o quociente entre a área a ceder ao Município integrando as parcelas \\npropostas no Plano e destinadas a zonas verdes públicas, equipamentos e eixos estruturantes e \\na área de edificação, excluindo a correspondente a equipamentos públicos;\\ng) Cércea (acima do solo) — a dimensão vertical da construção, medida a partir do ponto de \\ncota média do terreno marginal ao alinhamento da fachada até à linha superior do beirado, pla-\\ntibanda ou guarda do terraço, incluindo andares recuados mas excluindo acessórios: chaminés, \\ncasa de máquinas de ascensores, depósitos de água, etc.;\\nh) Construções ligeiras — pequenas edificações cobertas, de caráter não permanente, de \\napoio a atividades autorizadas, executadas em materiais ligeiros, prefabricados ou modulados, \\nque permitam a sua fácil desmontagem ou remoção;\\ni) Corpo dominante do edifício — consiste no volume principal do conjunto edificado, erigido \\nou a erigir no respetivo prédio;\\nj) Equilíbrio funcional — relação entre as várias funções instaladas e que se pretendem instalar \\nno território de forma a garantir o acesso em condições de equidade aos serviços de proximidade \\ne a evitar uma sobrecarga nas infraestruturas existentes e programadas;\\nk) Estudo urbanístico — desenho urbano sem caráter normativo ou vinculativo, de iniciativa \\nmunicipal, que materializa um desenho orientador de uma eventual operação urbanística, adequado \\nàs prescrições do PDMP e às restantes normas legais e regulamentares em vigor;\\nl) Frente urbana — plano definido pelo conjunto das fachadas dos edifícios confinantes com \\numa dada via pública e compreendido entre duas vias públicas sucessivas que o intersetam;\\nm) Índice de edificação — razão entre área de edificação, excluídas dos equipamentos de \\nutilização coletiva a ceder ao domínio municipal, e a área da(s) parcela(s), ou a área do plano \\n(categoria de espaço, unidade operativa de planeamento e gestão, plano de urbanização, plano \\nde pormenor ou unidade de execução) a que se reporta;\\nn) Malha urbana — é a forma assumida pela relação entre os espaços livres e construídos do \\naglomerado urbano, tradicionalmente identificada pela estrutura da rede viária;\\no) Moda da cércea — a cércea que apresenta maior extensão ao longo de uma frente urbana \\nedificada;\\np) Parcela — área de território delimitada física, jurídica ou topologicamente, não resultante \\nde uma operação de loteamento, e que corresponde ao prédio ou conjunto de prédios objeto de \\numa operação urbanística;\\nq) Piso 1 — o pavimento de um edifício que apresenta em relação à via pública, ou à cota do \\nterreno confinante com a via pública, uma diferença altimétrica até 1,20 m, medida no ponto médio \\nda frente principal do edifício, correspondendo à cota de soleira;\\nr) Uso compatível — uso que, não se articulando necessariamente com o dominante de cada \\ncategoria ou subcategoria de espaço, pode conviver com este mediante o cumprimento dos requi-\\nsitos previstos neste regulamento que garantam essa compatibilização;\\n\\ns) Uso complementar — uso não integrado no dominante de cada categoria e subcategoria \\nde espaço, mas cuja presença concorre para a valorização ou reforço deste;\\nt) Uso dominante — uso que constitui a vocação preferencial de utilização do solo em cada \\ncategoria ou subcategoria de espaço considerada;\\nu) Zona 30 (Z30) — área urbana, delimitada por uma rua ou um conjunto de ruas, que pro-\\nmove a convivência dos diferentes utilizadores no espaço público, ao mesmo tempo que assegura \\na acessibilidade do tráfego motorizado, com limite de velocidade a 30 km/h, e as entradas e saídas \\nda zona estão sinalizadas, sendo o ordenamento do espaço público compatível e coerente com a \\nvelocidade máxima estabelecida.\\n'"
      ]
     },
     "execution_count": 17,
     "metadata": {},
     "output_type": "execute_result"
    }
   ],
   "source": [
    "chunks[2]"
   ]
  },
  {
   "cell_type": "markdown",
   "metadata": {},
   "source": [
    "## Enrich chunks with hierarchy information"
   ]
  },
  {
   "cell_type": "code",
   "execution_count": 20,
   "metadata": {},
   "outputs": [
    {
     "name": "stdout",
     "output_type": "stream",
     "text": [
      "Chunks saved to ../data/artigos.txt\n"
     ]
    }
   ],
   "source": [
    "chunks = [chunk.replace(\"\\n\\n\", \"\\n\") for chunk in chunks]\n",
    "chunker.save_chunks_to_file(chunks, '../data/artigos.txt')"
   ]
  },
  {
   "cell_type": "code",
   "execution_count": 21,
   "metadata": {},
   "outputs": [],
   "source": [
    "article_hierarchy = {\n",
    "    \"1-6\": \"TITULO I - DISPOSIÇÕES GERAIS\",\n",
    "    \"7-8\": \"TITULO II - SERVIDÕES ADMINISTRATIVAS E RESTRIÇÕES DE UTILIDADE PÚBLICA\",\n",
    "    \"9-11\": \"TITULO III - USO DO SOLO - CAPÍTULO I - CLASSIFICAÇÃO E QUALIFICAÇÃO DO SOLO\",\n",
    "    \"12-13\": \"TITULO III - USO DO SOLO - CAPÍTULO II - QUALIFICAÇÃO OPERATIVA\",\n",
    "    \"14-16\": \"TITULO III - USO DO SOLO - CAPÍTULO III - QUALIFICAÇÃO FUNCIONAL - SECÇÃO I - DISPOSIÇÕES GERAIS\",\n",
    "    \"17-18\": \"TITULO III - USO DO SOLO - CAPÍTULO III - QUALIFICAÇÃO FUNCIONAL - SECÇÃO II - ESPAÇOS CENTRAIS\",\n",
    "    \"19-22\": \"TITULO III - USO DO SOLO - CAPÍTULO III - QUALIFICAÇÃO FUNCIONAL - SECÇÃO II - ESPAÇOS CENTRAIS - SUBSECÇÃO I - ÁREA HISTÓRICA\",\n",
    "    \"23-25\": \"TITULO III - USO DO SOLO - CAPÍTULO III - QUALIFICAÇÃO FUNCIONAL - SECÇÃO II - ESPAÇOS CENTRAIS - SUBSECÇÃO II - ÁREA DE FRENTE URBANA CONTÍNUA DE TIPO I\",\n",
    "    \"26-28\": \"TITULO III - USO DO SOLO - CAPÍTULO III - QUALIFICAÇÃO FUNCIONAL - SECÇÃO II - ESPAÇOS CENTRAIS - SUBSECÇÃO III - ÁREA DE FRENTE URBANA CONTÍNUA DE TIPO II\",\n",
    "    \"29-30\": \"TITULO III - USO DO SOLO - CAPÍTULO III - QUALIFICAÇÃO FUNCIONAL - SECÇÃO II - ESPAÇOS CENTRAIS - SUBSECÇÃO IV - ÁREA DE EDIFÍCIOS DE TIPO MORADIA\",\n",
    "    \"31-33\": \"TITULO III - USO DO SOLO - CAPÍTULO III - QUALIFICAÇÃO FUNCIONAL - SECÇÃO II - ESPAÇOS CENTRAIS - SUBSECÇÃO V - ÁREA DE BLOCOS ISOLADOS DE IMPLANTAÇÃO LIVRE\",\n",
    "    \"34-34\": \"TITULO III - USO DO SOLO - CAPÍTULO III - QUALIFICAÇÃO FUNCIONAL - SECÇÃO III - ESPAÇOS DE ATIVIDADES ECONÓMICAS\",\n",
    "    \"35-36\": \"TITULO III - USO DO SOLO - CAPÍTULO III - QUALIFICAÇÃO FUNCIONAL - SECÇÃO III - ESPAÇOS DE ATIVIDADES ECONÓMICAS - SUBSECÇÃO I - ÁREAS DE ATIVIDADES ECONÓMICAS DE TIPO I\",\n",
    "    \"37-38\": \"TITULO III - USO DO SOLO - CAPÍTULO III - QUALIFICAÇÃO FUNCIONAL - SECÇÃO III - ESPAÇOS DE ATIVIDADES ECONÓMICAS - SUBSECÇÃO II - ÁREAS DE ATIVIDADES ECONÓMICAS DE TIPO II\",\n",
    "    \"39-44\": \"TITULO III - USO DO SOLO - CAPÍTULO III - QUALIFICAÇÃO FUNCIONAL - SECÇÃO IV - ESPAÇOS VERDES DE FRENTE ATLÂNTICA E RIBEIRINHA\",\n",
    "    \"45-48\": \"TITULO III - USO DO SOLO - CAPÍTULO III - QUALIFICAÇÃO FUNCIONAL - SECÇÃO V - ESPAÇOS URBANOS DE BAIXA DENSIDADE\",\n",
    "    \"49-51\": \"TITULO III - USO DO SOLO - CAPÍTULO III - QUALIFICAÇÃO FUNCIONAL - SECÇÃO VI - ESPAÇOS DE USO ESPECIAL - SUBSECÇÃO I - ESPAÇOS DE USO ESPECIAL: EQUIPAMENTOS\",\n",
    "    \"52-54\": \"TITULO III - USO DO SOLO - CAPÍTULO III - QUALIFICAÇÃO FUNCIONAL - SECÇÃO VI - ESPAÇOS DE USO ESPECIAL - SUBSECÇÃO II - ESPAÇOS DE USO ESPECIAL: INFRAESTRUTURAS\",\n",
    "    \"55-56\": \"TITULO IV - DOS SISTEMAS URBANOS - CAPITULO I - DISPOSIÇÕES GERAIS\",\n",
    "    \"57-58\": \"TITULO IV - DOS SISTEMAS URBANOS - CAPITULO II - SISTEMA AMBIENTAL\",\n",
    "    \"59-59\": \"TITULO IV - DOS SISTEMAS URBANOS - CAPITULO II - SISTEMA AMBIENTAL - SECÇÃO I - ESTRUTURA ECOLÓGICA MUNICIPAL\",\n",
    "    \"60-64\": \"TITULO IV - DOS SISTEMAS URBANOS - CAPITULO II - SISTEMA AMBIENTAL - SECÇÃO I - ESTRUTURA ECOLÓGICA MUNICIPAL - SUBSECÇÃO I - ÁREAS DE GÉNESE NATURAL\",\n",
    "    \"65-68\": \"TITULO IV - DOS SISTEMAS URBANOS - CAPITULO II - SISTEMA AMBIENTAL - SECÇÃO I - ESTRUTURA ECOLÓGICA MUNICIPAL - SUBSECÇÃO II - ESPAÇOS VERDES FUNDAMENTAIS\",\n",
    "    \"69-72\": \"TITULO IV - DOS SISTEMAS URBANOS - CAPITULO II - SISTEMA AMBIENTAL - SECÇÃO I - ESTRUTURA ECOLÓGICA MUNICIPAL - SUBSECÇÃO III - CORREDORES VERDES\",\n",
    "    \"73-74\": \"TITULO IV - DOS SISTEMAS URBANOS - CAPITULO II - SISTEMA AMBIENTAL - SECÇÃO I - ESTRUTURA ECOLÓGICA MUNICIPAL - SUBSECÇÃO IV - CORREDOR ECOLÓGICO E SUB-REGIÕES HOMOGÉNEAS DO PROF-EDM\",\n",
    "    \"75-75\": \"TITULO IV - DOS SISTEMAS URBANOS - CAPITULO II - SISTEMA AMBIENTAL - SECÇÃO II - ÁREAS SUJEITAS A RISCOS NATURAIS\",\n",
    "    \"76-76\": \"TITULO IV - DOS SISTEMAS URBANOS - CAPITULO II - SISTEMA AMBIENTAL - SECÇÃO II - ÁREAS SUJEITAS A RISCOS NATURAIS - SUBSECÇÃO I - PROGRAMA DA ORLA COSTEIRA CAMINHA-ESPINHO (POC-CE)\",\n",
    "    \"77-78\": \"TITULO IV - DOS SISTEMAS URBANOS - CAPITULO II - SISTEMA AMBIENTAL - SECÇÃO II - ÁREAS SUJEITAS A RISCOS NATURAIS - SUBSECÇÃO II - OUTROS RISCOS NATURAIS\",\n",
    "    \"79-82\": \"TITULO IV - DOS SISTEMAS URBANOS - CAPITULO II - SISTEMA AMBIENTAL - SECÇÃO III - ZONAMENTO ACÚSTICO\",\n",
    "    \"83-84\": \"TITULO IV - DOS SISTEMAS URBANOS - CAPITULO III - SISTEMA PATRIMONIAL\",\n",
    "    \"85-86\": \"TITULO IV - DOS SISTEMAS URBANOS - CAPITULO III - SISTEMA PATRIMONIAL - SECÇÃO I - PATRIMÓNIO URBANÍSTICO E ARQUITETÓNICO - SUBSECÇÃO I - ÁREAS DE INTERESSE URBANÍSTICO E ARQUITETÓNICO\",\n",
    "    \"87-88\": \"TITULO IV - DOS SISTEMAS URBANOS - CAPITULO III - SISTEMA PATRIMONIAL - SECÇÃO I - PATRIMÓNIO URBANÍSTICO E ARQUITETÓNICO - SUBSECÇÃO II - NÚCLEOS E LUGARES\",\n",
    "    \"89-92\": \"TITULO IV - DOS SISTEMAS URBANOS - CAPITULO III - SISTEMA PATRIMONIAL - SECÇÃO I - PATRIMÓNIO URBANÍSTICO E ARQUITETÓNICO - SUBSECÇÃO III - CONJUNTOS E IMÓVEIS DE VALOR PATRIMONIAL\",\n",
    "    \"93-95\": \"TITULO IV - DOS SISTEMAS URBANOS - CAPITULO III - SISTEMA PATRIMONIAL - SECÇÃO I - PATRIMÓNIO URBANÍSTICO E ARQUITETÓNICO - SUBSECÇÃO IV - CONJUNTOS E IMÓVEIS DE VALOR PATRIMONIAL CLASSIFICADOS OU EM VIAS DE CLASSIFICAÇÃO\",\n",
    "    \"96-97\": \"TITULO IV - DOS SISTEMAS URBANOS - CAPITULO III - SISTEMA PATRIMONIAL - SECÇÃO II - PATRIMÓNIO ARQUEOLÓGICO\",\n",
    "    \"98-99\": \"TITULO IV - DOS SISTEMAS URBANOS - CAPITULO III - SISTEMA PATRIMONIAL - SECÇÃO III - PATRIMÓNIO NATURAL\",\n",
    "    \"100-101\": \"TITULO IV - DOS SISTEMAS URBANOS - CAPITULO III - SISTEMA PATRIMONIAL - SECÇÃO IV - ESTABELECIMENTOS DE INTERESSE HISTÓRICO E CULTURAL OU SOCIAL LOCAL\",\n",
    "    \"102-103\": \"TITULO IV - DOS SISTEMAS URBANOS - CAPITULO IV - SISTEMAS DE CIRCULAÇÃO E TRANSPORTES - SECÇÃO I - DISPOSIÇÕES GERAIS\",\n",
    "    \"104-105\": \"TITULO IV - DOS SISTEMAS URBANOS - CAPITULO IV - SISTEMAS DE CIRCULAÇÃO E TRANSPORTES - SECÇÃO II - CANAIS FERROVIÁRIOS\",\n",
    "    \"106-107\": \"TITULO IV - DOS SISTEMAS URBANOS - CAPITULO IV - SISTEMAS DE CIRCULAÇÃO E TRANSPORTES - SECÇÃO III - CANAIS RODOVIÁRIOS\",\n",
    "    \"108-113\": \"TITULO IV - DOS SISTEMAS URBANOS - CAPITULO IV - SISTEMAS DE CIRCULAÇÃO E TRANSPORTES - SECÇÃO III - CANAIS RODOVIÁRIOS - SUBSECÇÃO I - REDE MUNICIPAL\",\n",
    "    \"114-115\": \"TITULO IV - DOS SISTEMAS URBANOS - CAPITULO IV - SISTEMAS DE CIRCULAÇÃO E TRANSPORTES - SECÇÃO IV - INTERFACES DE PASSAGEIROS E MERCADORIAS\",\n",
    "    \"116-122\": \"TITULO IV - DOS SISTEMAS URBANOS - CAPITULO IV - SISTEMAS DE CIRCULAÇÃO E TRANSPORTES - SECÇÃO V - ESTACIONAMENTO\",\n",
    "    \"123-127\": \"TITULO IV - DOS SISTEMAS URBANOS - CAPITULO V - SISTEMAS DE INFRAESTRUTURAS\",\n",
    "    \"128-130\": \"TITULO V - PEREQUAÇÃO, FINANCIAMENTO E EXECUÇÃO - CAPÍTULO I - DISPOSIÇÕES GERAIS\",\n",
    "    \"131-135\": \"TITULO V - PEREQUAÇÃO, FINANCIAMENTO E EXECUÇÃO - CAPÍTULO II - REGIME ECONÓMICO-FINANCEIRO - SECÇÃO I - EDIFICABILIDADE\",\n",
    "    \"136-140\": \"TITULO V - PEREQUAÇÃO, FINANCIAMENTO E EXECUÇÃO - CAPÍTULO II - REGIME ECONÓMICO-FINANCEIRO - SECÇÃO II - ENCARGOS URBANÍSTICOS\",\n",
    "    \"141-146\": \"TITULO V - PEREQUAÇÃO, FINANCIAMENTO E EXECUÇÃO - CAPÍTULO II - REGIME ECONÓMICO-FINANCEIRO - SECÇÃO III - ZONAMENTO INCLUSIVO E INCENTIVOS\",\n",
    "    \"147-150\": \"TITULO V - PEREQUAÇÃO, FINANCIAMENTO E EXECUÇÃO - CAPÍTULO II - REGIME ECONÓMICO-FINANCEIRO - SECÇÃO IV - OUTROS INSTRUMENTOS DO REGIME ECONÓMICO E FINANCEIRO\",\n",
    "    \"151-157\": \"TITULO V - PEREQUAÇÃO, FINANCIAMENTO E EXECUÇÃO - CAPÍTULO III - EXECUÇÃO - SECÇÃO I - FORMAS DE EXECUÇÃO\",\n",
    "    \"158-160\": \"TITULO V - PEREQUAÇÃO, FINANCIAMENTO E EXECUÇÃO - CAPÍTULO III - EXECUÇÃO - SECÇÃO II - UNIDADES OPERATIVAS DE PLANEAMENTO E GESTÃO\",\n",
    "    \"161-164\": \"TITULO VI - DISPOSIÇÕES GERAIS\"\n",
    "}"
   ]
  },
  {
   "cell_type": "code",
   "execution_count": 22,
   "metadata": {},
   "outputs": [],
   "source": [
    "def get_hierarchy(article_number):\n",
    "    for key, hierarchy in article_hierarchy.items():\n",
    "        start, end = map(int, key.split('-'))\n",
    "        if start <= article_number <= end:\n",
    "            return hierarchy\n",
    "    return \"Article not found\"\n",
    "    "
   ]
  },
  {
   "cell_type": "code",
   "execution_count": 23,
   "metadata": {},
   "outputs": [],
   "source": [
    "enriched_articles = []\n",
    "for article in chunks:\n",
    "    string = article[:10]\n",
    "    pattern = r\"(\\d+)\"  # Regex to capture the number\n",
    "    match = re.findall(pattern, string)\n",
    "    article_number = int(match[0])\n",
    "\n",
    "    hierarchy = get_hierarchy(article_number)\n",
    "\n",
    "    enriched_article = hierarchy + '\\n' + article\n",
    "    enriched_articles.append(enriched_article)"
   ]
  },
  {
   "cell_type": "code",
   "execution_count": 24,
   "metadata": {},
   "outputs": [
    {
     "name": "stdout",
     "output_type": "stream",
     "text": [
      "Chunks saved to ../data/enriched_articles.txt\n"
     ]
    }
   ],
   "source": [
    "chunker.save_chunks_to_file(enriched_articles, '../data/enriched_articles.txt')"
   ]
  },
  {
   "cell_type": "code",
   "execution_count": 15,
   "metadata": {},
   "outputs": [],
   "source": [
    "with open('../data/enriched_articles.txt', 'w') as f:\n",
    "    for article in enriched_articles:\n",
    "        f.write(article + '\\n')"
   ]
  },
  {
   "cell_type": "markdown",
   "metadata": {},
   "source": [
    "# Vectorizer"
   ]
  },
  {
   "cell_type": "code",
   "execution_count": 29,
   "metadata": {},
   "outputs": [],
   "source": [
    "vectorizer = TextVectorizer(api_key=os.getenv('MISTRAL_API_KEY'))"
   ]
  },
  {
   "cell_type": "code",
   "execution_count": 35,
   "metadata": {},
   "outputs": [
    {
     "name": "stderr",
     "output_type": "stream",
     "text": [
      "100%|██████████| 166/166 [06:12<00:00,  2.24s/it]\n"
     ]
    }
   ],
   "source": [
    "# Free API very low rate - introduced sleep in the method to overcome this\n",
    "embeddings = []\n",
    "\n",
    "for chunk in tqdm(enriched_articles):\n",
    "    embeddings.append(vectorizer.get_text_embedding(chunk))\n",
    "    time.sleep(2)"
   ]
  },
  {
   "cell_type": "code",
   "execution_count": 37,
   "metadata": {},
   "outputs": [],
   "source": [
    "vectorizer.save_embeddings_to_db(np.array(embeddings), '../data/artigos_embeddings.faiss')    "
   ]
  },
  {
   "cell_type": "markdown",
   "metadata": {},
   "source": [
    "# Retriever"
   ]
  },
  {
   "cell_type": "code",
   "execution_count": 38,
   "metadata": {},
   "outputs": [],
   "source": [
    "retriever = Retriever('../data/artigos_embeddings.faiss', vectorizer)"
   ]
  },
  {
   "cell_type": "code",
   "execution_count": 66,
   "metadata": {},
   "outputs": [],
   "source": [
    "layers = ['Qualificação do solo funcional - Espaços centrais - Área de frente urbana contínua do tipo II', ' Qualificação do solo operativa - Espaço consolidado', 'Corredores verdes - Corredor verde complementar - Corredor Verde da Granja (Constituição / Regado)', 'Área de Aluvião', 'Sub-regiões homogéneas - Grande Porto', 'Zonamento acústico - Zona mista', 'Unidades territoriais perequativas - Área Central']"
   ]
  },
  {
   "cell_type": "code",
   "execution_count": 74,
   "metadata": {},
   "outputs": [],
   "source": [
    "all_relevant_chunks = []\n",
    "\n",
    "for layer in layers:\n",
    "    relevant_chunks = retriever.retrieve(layer, enriched_articles, k=5)\n",
    "    all_relevant_chunks.extend(relevant_chunks)\n",
    "    time.sleep(2)"
   ]
  },
  {
   "cell_type": "code",
   "execution_count": 78,
   "metadata": {},
   "outputs": [],
   "source": [
    "all_relevant_chunks = set(all_relevant_chunks)"
   ]
  },
  {
   "cell_type": "code",
   "execution_count": 79,
   "metadata": {},
   "outputs": [
    {
     "data": {
      "text/plain": [
       "5061"
      ]
     },
     "execution_count": 79,
     "metadata": {},
     "output_type": "execute_result"
    }
   ],
   "source": [
    "sum([len(x.split()) for x in all_relevant_chunks])"
   ]
  },
  {
   "cell_type": "markdown",
   "metadata": {},
   "source": [
    "# Question answering"
   ]
  },
  {
   "cell_type": "code",
   "execution_count": 83,
   "metadata": {},
   "outputs": [],
   "source": [
    "question = \"O que é que se pode construir aqui e quais as restrições?\"\n",
    "context = '\\n'.join(all_relevant_chunks)\n",
    "model = \"mistral-large-latest\"\n",
    "client = Mistral(api_key=os.getenv('MISTRAL_API_KEY'))"
   ]
  },
  {
   "cell_type": "code",
   "execution_count": 84,
   "metadata": {},
   "outputs": [],
   "source": [
    "system_prompt = \"\"\"\n",
    "        You are an expert document analyst with a focus on legal documents from public municipalities called Plano Director Municipal.\n",
    "        \n",
    "        I will provide you with:\n",
    "        1 - the classification of the location according to the Plano Director Municipal\n",
    "        2 - a series of relevant articles from the Plano Director Municipal that describe the details about the classification above\n",
    "        3 - a question about that particular location that I need an answer to, based on its location classification and the articles provided\n",
    "        \n",
    "        You answer only to pertinent questions.\n",
    "        For every answer, provide the article numbers (\"Artigo\"), sections (\"SECÇÃO\") or subsections (\"SUBSECÇÃO\") that support your answer and a detailed explanation.\n",
    "        Take into consideration that for legal purposes, the most restrictive articles will take precedence over the less restrictive ones.\n",
    "        You answer only in European Portuguese (PT-PT).\n",
    "        \"\"\""
   ]
  },
  {
   "cell_type": "code",
   "execution_count": 85,
   "metadata": {},
   "outputs": [],
   "source": [
    "layers_formatted = '\\n'.join(layers)"
   ]
  },
  {
   "cell_type": "code",
   "execution_count": 86,
   "metadata": {},
   "outputs": [],
   "source": [
    "question_prompt = f\"\"\"\n",
    "In the Plano Director Municipal, the location is classified as:\n",
    "\n",
    "{layers_formatted}\n",
    "\n",
    "The relevant texts for the classification of this location are below:\n",
    "\n",
    "---------------------\n",
    "{all_relevant_chunks}\n",
    "---------------------\n",
    "\n",
    "Given the the location classification and the texts from the Plano Director Municipal that are provided, answer the question.\n",
    "\n",
    "Question: {question}\n",
    "Answer:\n",
    "\"\"\""
   ]
  },
  {
   "cell_type": "code",
   "execution_count": 90,
   "metadata": {},
   "outputs": [
    {
     "name": "stdout",
     "output_type": "stream",
     "text": [
      "\n",
      "In the Plano Director Municipal, the location is classified as:\n",
      "\n",
      "Qualificação do solo funcional - Espaços centrais - Área de frente urbana contínua do tipo II\n",
      " Qualificação do solo operativa - Espaço consolidado\n",
      "Corredores verdes - Corredor verde complementar - Corredor Verde da Granja (Constituição / Regado)\n",
      "Área de Aluvião\n",
      "Sub-regiões homogéneas - Grande Porto\n",
      "Zonamento acústico - Zona mista\n",
      "Unidades territoriais perequativas - Área Central\n",
      "\n",
      "The relevant texts for the classification of this location are below:\n",
      "\n",
      "---------------------\n",
      "{'TITULO I - DISPOSIÇÕES GERAIS\\nArtigo 1.º\\nÂmbito e Objetivos\\n1 — O presente Regulamento, a Planta de Ordenamento e a Planta de Condicionantes são \\npartes integrantes do Plano Diretor Municipal do Porto, adiante designado por PDMP ou Plano, \\nelaborado ao abrigo do Regime Jurídico dos Instrumentos de Gestão Territorial (RJIGT) em vigor, \\no qual estabelece as regras e orientações a que devem obedecer as ações de ocupação, o uso e a \\ntransformação do solo na totalidade do território do concelho do Porto, cujos limites se encontram \\ndefinidos na Carta Administrativa Oficial de Portugal (CAOP).\\n2 — O PDMP visa os seguintes objetivos:\\na) Promover as condições de vida e de bem -estar da população, reforçando a atratividade \\nresidencial e criando as condições para a recuperação demográfica da cidade do Porto;\\nb) Preservar a identidade cultural, urbanística e arquitetónica do Porto, qualificando os seus \\ntecidos urbanos e valorizando os seus recursos materiais e simbólicos;\\nc) Garantir a qualidade ambiental, promovendo um modelo de desenvolvimento urbano sus-\\ntentável;\\nd) Melhorar a acessibilidade interna e externa, criando novas condições para a intermodalidade \\ne a utilização dos modos de transporte suaves;\\ne) Reduzir as assimetrias sócio -espaciais, promovendo um modelo de desenvolvimento urbano \\npolicêntrico e eliminando fatores de estigmatização;\\nf) Promover condições para o reforço da competitividade da base económica urbana e o \\ncrescimento do emprego;\\ng) Desenvolver a capacidade de afirmação do Porto às escalas regional, nacional e internacional.\\n\\n', 'TITULO V - PEREQUAÇÃO, FINANCIAMENTO E EXECUÇÃO - CAPÍTULO III - EXECUÇÃO - SECÇÃO I - FORMAS DE EXECUÇÃO\\nArtigo 155.º\\nDelimitação de unidades de execução\\nA delimitação das unidades de execução deve cumprir as seguintes condições:\\na) Abranger uma área adequada para constituir um perímetro com características de unidade \\ne autonomia urbanísticas e que possa cumprir os requisitos legais exigíveis, nomeadamente, pro-\\ncurando facilitar a justa repartição de benefícios e encargos pelos proprietários abrangidos;\\nb) Assegurar que, no caso de a unidade de execução não abranger a totalidade de um polígono \\na estruturar, não fique inviabilizada, para as áreas remanescentes do referido polígono, a possibi-\\nlidade de, por sua vez, elas se constituírem em uma ou mais unidades de execução que cumpram \\nindividualmente as condições estabelecidas na alínea anterior;\\n\\nc) Garantir a correta articulação funcional e formal da intervenção urbanística com o espaço \\nurbano consolidado preexistente.\\n', 'TITULO IV - DOS SISTEMAS URBANOS - CAPITULO II - SISTEMA AMBIENTAL - SECÇÃO I - ESTRUTURA ECOLÓGICA MUNICIPAL - SUBSECÇÃO I - ÁREAS DE GÉNESE NATURAL\\nArtigo 64.º\\nÁrea declivosa\\n1 — Compreendem os espaços de declive muito acentuado (superior a 45°), com presença \\nevidente de afloramentos rochosos, sem construção e que ainda mantêm alguma qualidade natural \\nou interesse paisagístico.\\n2 — Nas áreas declivosas apenas são permitidas as seguintes intervenções:\\na) Obras de proteção e consolidação de vertentes;\\nb) Construção de acessos pedonais e zonas de estada;\\nc) Reabilitação de canais ferroviários;\\nd) Instalação de mobiliário urbano e estruturas ligeiras de apoio a atividades de recreio e lazer;\\ne) Intervenções de requalificação paisagística que visem a sua valorização e fruição, tendo \\nem consideração as características e condicionantes de cada local;\\nf) Instalação de usos de apoio à fruição destas áreas, em preexistências;\\ng) Recuperação de sistemas e habitats prioritários que se pretende conservar.\\n3 — Não são admitidas atividades suscetíveis de danificar os valores naturais.\\n\\n', 'TITULO III - USO DO SOLO - CAPÍTULO III - QUALIFICAÇÃO FUNCIONAL - SECÇÃO II - ESPAÇOS CENTRAIS - SUBSECÇÃO I - ÁREA HISTÓRICA\\nArtigo 19.º\\nÂmbito e Objetivos\\n1 — As áreas históricas correspondem aos tecidos consolidados mais antigos da cidade e \\nàs reminiscências dos núcleos rurais primitivos que ainda conservam a estrutura e os elementos \\nmorfológicos iniciais, revelando significativa representatividade urbanística e arquitetónica, com-\\npreendendo:\\na) Centro Histórico do Porto;\\nb) Foz Velha;\\nc) Núcleos ou lugares, designadamente os seguintes, identificados na Planta de Ordena-\\nmento — Carta de Património I: Lamas; Massarelos; Nevogilde; Ouro; Paranhos; S. Pedro de \\nAzevedo; Vila Nova.\\n2 — Nestas áreas pretende -se promover a preservação e a requalificação do edificado, bem \\ncomo dos espaços livres públicos e privados.\\n', 'TITULO IV - DOS SISTEMAS URBANOS - CAPITULO II - SISTEMA AMBIENTAL - SECÇÃO I - ESTRUTURA ECOLÓGICA MUNICIPAL - SUBSECÇÃO III - CORREDORES VERDES\\nArtigo 70.º\\nCorredores verdes principais\\n1 — Os corredores principais apresentam características biofísicas e culturais que demonstram \\nvalores de interesse para a conservação, tendo por suporte o sistema húmido e ligando espaços \\nverdes fundamentais, assegurando a continuidade da paisagem.\\n2 — Deve ser promovida a continuidade física dos corredores principais, garantindo a conec-\\ntividade da mancha verde, privilegiando a permeabilidade do solo, reforçando a galeria ripícola e \\npromovendo sistemas de drenagem sustentável.\\n3 — Quando associados a cursos de água a céu aberto identificados na Planta de Orde-\\nnamento — Carta da Estrutura Ecológica Municipal, deve garantir -se, no mínimo, uma faixa \\nde 10 metros, para além da margem legalmente estabelecida, livre de edificação.\\n4 — Nas situações em que esta faixa não se encontra preservada, as operações urbanísticas \\ndevem prever medidas de reposição das condições naturais, por forma a melhorar o funcionamento \\ndo sistema hidrológico.\\n5 — As intervenções nestas áreas devem cumprir, sempre que aplicável, o índice de imper-\\nmeabilização associado à categoria de uso do solo em que se inserem, minorado de 0,2 na área \\nabrangida pelo corredor verde principal.\\n6 — Apenas é permitida a edificação de um piso abaixo da cota de terreno existente.\\n7 — O disposto nos n.os 5 e 6 não é aplicável às parcelas inseridas nas subcategorias de Área \\nVerde de Acesso Público e Área Verde de Elevado Valor Ecológico.\\n', 'TITULO IV - DOS SISTEMAS URBANOS - CAPITULO III - SISTEMA PATRIMONIAL - SECÇÃO I - PATRIMÓNIO URBANÍSTICO E ARQUITETÓNICO - SUBSECÇÃO II - NÚCLEOS E LUGARES\\nArtigo 87.º\\nÂmbito\\n1 — Os Núcleos e lugares, identificados na Planta de Ordenamento — Carta de Património I, \\nabrangem unidades territoriais correspondentes aos tecidos antigos da cidade e às reminiscências \\nde lugares rurais que ainda conservam a estrutura e os elementos morfológicos distintivos e que \\nsão testemunhos históricos do processo de humanização do território e contribuem para a diversi-\\ndade urbanística e arquitetónica.\\n2 — São os seguintes os núcleos históricos a que se refere o número anterior:\\na) Lamas;\\nb) Massarelos;\\nc) Nevogilde;\\nd) Ouro;\\ne) Paranhos;\\nf) S. Pedro de Azevedo;\\ng) Vila Nova.\\n', 'TITULO V - PEREQUAÇÃO, FINANCIAMENTO E EXECUÇÃO - CAPÍTULO III - EXECUÇÃO - SECÇÃO I - FORMAS DE EXECUÇÃO\\nArtigo 153.º\\nExecução em espaço em consolidação\\n1 — Em espaço em consolidação a execução do Plano é, dominantemente, sistemática, com \\no recurso a unidades de execução.\\n2 — Sem prejuízo do disposto no número anterior, o Município pode autorizar operações \\nurbanísticas avulsas quando a adoção de unidades de execução ou plano de pormenor se revelar \\ndesnecessária à luz dos objetivos delineados pelo Plano, nomeadamente nas seguintes situações:\\na) Quando digam respeito a parcelas em contiguidade com espaço urbano consolidado ou com \\náreas que tenham adquirido características semelhantes àquele através de ações de urbanização \\nou edificação e desde que o Município considere que as soluções propostas asseguram uma cor-\\nreta articulação formal e funcional com o solo urbano consolidado e não prejudicam o ordenamento \\nurbanístico da área envolvente e sobrante;\\nb) Quando se trate de situações de colmatação entre edifícios existentes e a manter;\\nc) Quando se trate de uma única operação urbanística de iniciativa de um ou vários proprietá-\\nrios, que abrangendo uma parte significativa do polígono qualificado como espaço em consolidação, \\npermita estruturar o território garantindo a articulação com o tecido urbano envolvente.\\n3 — As áreas integradas em solo urbano que careçam de infraestruturas programadas no \\nâmbito do Plano são objeto de reclassificação parcial do solo urbano para solo rústico, de acordo \\ncom o procedimento previsto na Lei, caso as infraestruturas não sejam executadas no prazo máximo \\nprevisto.\\n', 'TITULO IV - DOS SISTEMAS URBANOS - CAPITULO II - SISTEMA AMBIENTAL - SECÇÃO I - ESTRUTURA ECOLÓGICA MUNICIPAL - SUBSECÇÃO I - ÁREAS DE GÉNESE NATURAL\\nArtigo 62.º\\nLinhas de água e bacias de retenção\\n1 — As linhas de água e bacias de retenção que relevam como área de génese natural inte-\\ngram todas as linhas de água, incluindo troços a céu aberto e entubados, bem como as bacias de \\nretenção existentes, propostas e potenciais.\\n2 — Nas linhas de água a céu aberto, importa potenciar a galeria ripícola, preservar o fundo \\nde fertilidade e valorizar os sistemas produtivos, promovendo ainda os valores culturais e o uso \\nlúdico e desportivo da paisagem, com base em ligações através de modos suaves.\\n3 — É interdita a canalização dos cursos de água atualmente existentes a céu aberto.\\n4 — É proibida a destruição ou obstrução das linhas de drenagem natural, a deposição de \\nresíduos ao longo dos cursos de água, a alteração da morfologia das margens, salvo em situações \\nde renaturalização e implementação de bacias de retenção.\\n5 — É interdita a construção nas linhas de água e suas margens, com exceção de obras \\nindispensáveis relativas a infraestruturas básicas ou obras de infraestruturas hidráulicas.\\n6 — Na abertura de novos arruamentos que cruzem linhas de água devem ser preferencial-\\nmente adotadas soluções de viaduto.\\n7 — Quando, no âmbito de operações urbanísticas se comprove que a linha de água não \\nexiste ou tem uma localização diferente da cartografada, o disposto nos números anteriores aplica-\\n-se em conformidade.\\n', 'TITULO III - USO DO SOLO - CAPÍTULO III - QUALIFICAÇÃO FUNCIONAL - SECÇÃO II - ESPAÇOS CENTRAIS\\nArtigo 18.º\\nTecidos Urbanos\\nOs espaços centrais possuem diferentes características morfológicas e tipológicas decorrentes \\nda diversidade dos processos históricos de formação dos seus tecidos urbanos, tendo sido identi-\\nficadas as seguintes subcategorias:\\na) Área histórica;\\nb) Área de frente urbana contínua tipo I;\\nc) Área de frente urbana contínua tipo II;\\nd) Área de edifícios de tipo moradia;\\ne) Área de blocos isolados de implantação livre.\\n', 'TITULO III - USO DO SOLO - CAPÍTULO II - QUALIFICAÇÃO OPERATIVA\\nArtigo 12.º\\nÂmbito, Objetivos e Execução dos espaços consolidados\\n1 — Os espaços consolidados integram os tecidos urbanos infraestruturados e predominan-\\ntemente ocupados e que se pretendem preservar e valorizar especialmente no que respeita às \\nmorfologias e tipologias urbanas.\\n\\n2 — Em espaços consolidados a execução do Plano processa -se nos termos definidos do \\ntítulo V — Perequação, Financiamento e Execução.\\n', 'TITULO V - PEREQUAÇÃO, FINANCIAMENTO E EXECUÇÃO - CAPÍTULO II - REGIME ECONÓMICO-FINANCEIRO - SECÇÃO I - EDIFICABILIDADE\\nArtigo 133.º\\nUT para efeitos de perequação da edificabilidade\\n1 — Identificam -se, na área abrangida pelo Plano, as seguintes UT a considerar para efeitos \\nde perequação da edificabilidade:\\na) Área Central;\\nb) Área Ocidental e Arco Exterior;\\nc) Área Oriental.\\n2 — Distinguem -se, no interior destas UT:\\na) As áreas com condicionantes biofísicos à edificabilidade;\\nb) As áreas destinadas a atividades económicas, cuja concretização se pretende especial-\\nmente incentivar.\\n', 'TITULO III - USO DO SOLO - CAPÍTULO III - QUALIFICAÇÃO FUNCIONAL - SECÇÃO II - ESPAÇOS CENTRAIS - SUBSECÇÃO II - ÁREA DE FRENTE URBANA CONTÍNUA DE TIPO I\\nArtigo 23.º\\nÂmbito e Objetivos\\n1 — As áreas de frente urbana contínua do tipo I correspondem às áreas organizadas em \\nquarteirão, com edifícios localizados, predominantemente, à face dos arruamentos, em que o \\nespaço público e as frentes urbanas edificadas que o conformam se apresentam estabilizados, \\npretendendo -se a manutenção e valorização das malhas e morfologia existentes.\\n2 — Compreendendo essencialmente quarteirões construídos nos séculos XVIII, XIX ou início \\ndo século XX da zona central da cidade, estas áreas integram edifícios significativos e conjuntos \\nde edifícios com interesse patrimonial, caracterizadores de uma imagem da cidade que interessa \\npreservar, pelo que as intervenções a efetuar devem privilegiar a preservação e requalificação \\ndos edifícios existentes, tendo também como objetivo a sua ocupação por usos qualificadores e \\ndinamizadores da vivência urbana.\\n', 'TITULO IV - DOS SISTEMAS URBANOS - CAPITULO IV - SISTEMAS DE CIRCULAÇÃO E TRANSPORTES - SECÇÃO III - CANAIS RODOVIÁRIOS - SUBSECÇÃO I - REDE MUNICIPAL\\nArtigo 112.º\\nCorredores de circulação pedonal e ciclável\\n1 — Nos corredores pedonais deve promover -se a bioclimatização, designadamente através \\nde arborização, a utilização de pavimentos que garantam conforto e segurança, a iluminação ade-\\nquada e a sinalética apropriada.\\n2 — Na Planta Complementar — Carta de Infraestruturas de Modos Suaves, estão represen-\\ntados os percursos eficientes, os corredores estruturantes de circulação ciclável e as Zonas XXI.\\n3 — Os percursos eficientes devem ser diretos, sem desvios e obstáculos desnecessários, \\ngarantindo em toda a sua extensão um canal de circulação livre de pelo menos 1,5 metros, sem \\nprejuízo do disposto do n.º 3 do artigo 112.º\\n4 — Os corredores de circulação ciclável devem garantir a segurança e conforto dos utiliza-\\ndores e, sempre que possível, deve ser adotado o corredor bidirecional.\\n5 — O atravessamento pedonal nas interseções não deve ser feito recorrendo a ‘ilhas’ loca-\\nlizadas na faixa de rodagem, devendo ser garantido em todos os seus lados, mesmo que tal \\nimplique perda de desempenho automóvel, devendo as situações existentes não conformes ser \\ngradualmente corrigidas.\\n6 — As Zonas XXI são áreas piloto que têm como objetivo principal a redução do espaço \\nocupado pelo automóvel, com a eliminação do estacionamento à superfície, e a requalificação do \\nespaço público.\\n7 — Os limites fixados para cada uma destas áreas podem ser ajustados em função do levan-\\ntamento das necessidades de estacionamento.\\n', 'TITULO IV - DOS SISTEMAS URBANOS - CAPITULO II - SISTEMA AMBIENTAL - SECÇÃO I - ESTRUTURA ECOLÓGICA MUNICIPAL - SUBSECÇÃO III - CORREDORES VERDES\\nArtigo 72.º\\nRede de conexão\\n1 — A rede de conexão é traduzida, em regra, por eixos de arborização que ligam de forma \\nlinear os espaços verdes urbanos, correspondendo à malha capilar do tecido urbano, que liga jar-\\ndins condominiais, logradouros, pátios, jardins de proximidade, praças e jardins históricos através \\nde faixas plantadas contínuas e fortemente arborizadas.\\n2 — Esta rede desempenha um papel importante ao nível da drenagem superficial, da captura \\nde dióxido de carbono e do conforto bioclimático, contribuindo decisivamente para a qualidade do \\nambiente urbano.\\n3 — Deve ser mantido e, sempre que possível, reforçado o grau de arborização existente \\ne o aumento da superfície permeável, tendo em conta as orientações do plano de arborização \\nmunicipal.\\n', 'TITULO III - USO DO SOLO - CAPÍTULO III - QUALIFICAÇÃO FUNCIONAL - SECÇÃO II - ESPAÇOS CENTRAIS\\nArtigo 17.º\\nÂmbito, Objetivos e Usos\\n1 — Nestes espaços privilegia -se a conservação e reabilitação do edificado existente, a col-\\nmatação e compactação da malha urbana e a qualificação do espaço público.\\n\\n2 — Nos espaços centrais deve garantir -se o equilíbrio funcional, através de coexistência de \\nvários usos urbanos, designadamente, habitação, comércio, equipamentos, serviços, atividades \\nturísticas, indústria e logística, desde que compatíveis entre si.\\n', 'TITULO IV - DOS SISTEMAS URBANOS - CAPITULO II - SISTEMA AMBIENTAL - SECÇÃO I - ESTRUTURA ECOLÓGICA MUNICIPAL - SUBSECÇÃO I - ÁREAS DE GÉNESE NATURAL\\nArtigo 63.º\\nÁrea de aluvião\\n1 — As áreas de aluvião correspondem a depósitos fluviais que ocupam os vales de pequenos \\nrios e ribeiros e são, essencialmente, constituídos por sedimentos argilosos e areias que ocorrem \\nno leito de inundação.\\n2 — As operações urbanísticas devem promover a permeabilidade do solo, quer através da \\nrenaturalização das linhas de água, quer através da promoção de espaços verdes.\\n3 — São interditas atividades que possam contaminar a água e o solo.\\n4 — Não é permitida a renovação dos títulos da concessão de postos de abastecimento de \\ncombustível existentes nestas áreas.\\n', 'TITULO IV - DOS SISTEMAS URBANOS - CAPITULO II - SISTEMA AMBIENTAL - SECÇÃO I - ESTRUTURA ECOLÓGICA MUNICIPAL - SUBSECÇÃO IV - CORREDOR ECOLÓGICO E SUB-REGIÕES HOMOGÉNEAS DO PROF-EDM\\nArtigo 73.º\\nÂmbito e objetivos\\n1 — O corredor ecológico, representado na Planta de Ordenamento — Carta de Estrutura \\nEcológica, resulta da incorporação das orientações do PROF -EDM e, de acordo com esse instru-\\nmento, constitui uma faixa que visa promover ou salvaguardar a conexão entre áreas florestais \\ndispersas ou as diferentes áreas de importância ecológica, favorecendo o intercâmbio genético \\nessencial para a manutenção da biodiversidade, com uma adequada integração e desenvolvimento \\ndas atividades humanas.\\n2 — As sub -regiões homogéneas, representadas na Planta de Ordenamento — Carta de Estru-\\ntura Ecológica, resultam da incorporação das orientações do PROF -EDM e, de acordo com esse \\ninstrumento, definem -se como uma unidade territorial com um elevado grau de homogeneidade \\nrelativamente ao perfil dominante das funções dos espaços florestais e às suas características, \\npossibilitando a definição territorial de objetivos de utilização, como resultado da otimização com-\\nbinada de três funções principais.\\n3 — Nestas áreas deverão ser prosseguidos os objetivos estabelecidos no PROF -EDM.\\n\\n', 'TITULO III - USO DO SOLO - CAPÍTULO III - QUALIFICAÇÃO FUNCIONAL - SECÇÃO II - ESPAÇOS CENTRAIS - SUBSECÇÃO III - ÁREA DE FRENTE URBANA CONTÍNUA DE TIPO II\\nArtigo 28.º\\nLogradouro e Interior dos quarteirões\\n1 — Os logradouros e interior dos quarteirões devem ser permeáveis, sendo ocupados por \\ncoberto vegetal, admitindo -se a criação de espaços de circulação, e de estadia, e/ou um anexo \\ncom o máximo de 10 m2, desde que não comprometa a existência de um índice de permeabilidade \\nde 0,3 da área da parcela.\\n2 — Admite -se a divisão de um quarteirão quando se considerar que, pela sua significativa \\ndimensão e desejável alteração dos usos e ocupação existentes no seu interior, a mesma contribui \\npara a qualificação urbanística e ambiental dessa zona da cidade, ou para a melhoria das condições \\nde circulação viária.\\n3 — Na situação do número anterior, cumulativamente com as disposições constantes desta \\nsecção, devem verificar -se as seguintes regras:\\na) O novo arruamento que divide o quarteirão existente deve ter um traçado que permita esta-\\nbelecer a ligação rodoviária entre dois arruamentos já existentes e o seu perfil deve ser ajustado aos \\n\\nperfis destes arruamentos, admitindo -se, excecionalmente, soluções mistas (rodoviária e pedonal) \\nde atravessamento de quarteirões, desde que seja esta a única solução viável face a condições \\nbiofísicas do local, comprovada através de estudo urbanístico municipal;\\nb) A cércea dos edifícios a implantar à face do novo arruamento deve garantir uma correta \\narticulação com as cérceas das frentes urbanas em que se apoia o novo arruamento.\\n', 'TITULO IV - DOS SISTEMAS URBANOS - CAPITULO II - SISTEMA AMBIENTAL - SECÇÃO I - ESTRUTURA ECOLÓGICA MUNICIPAL - SUBSECÇÃO III - CORREDORES VERDES\\nArtigo 71.º\\nCorredores verdes complementares\\n1 — Estes corredores conferem um estatuto complementar aos principais, e nos quais, através \\nde um condicionamento moderado, pode ser promovida uma utilização e ocupação multifuncional \\nem harmonia com a função de salvaguarda.\\n\\n2 — Deve ser promovida a continuidade física destes corredores, garantindo a conectividade da \\nmancha verde, privilegiando a permeabilidade do solo, reforçando a galeria ripícola e promovendo \\nsistemas de drenagem sustentável, sempre que possível.\\n3 — Quando associados a cursos de água a céu aberto identificados na Carta da Estrutura \\nEcológica Municipal, deve garantir -se, no mínimo, uma faixa de 5 metros, para além da margem \\nlegalmente estabelecida, livre de edificação.\\n4 — Nas situações em que esta faixa não se encontra preservada, as operações urbanísticas \\ndevem prever medidas de reposição das condições naturais, por forma a melhorar o funcionamento \\ndo sistema hidrológico.\\n5 — As intervenções nestas áreas devem cumprir, sempre que aplicável, o índice de imper-\\nmeabilização associado à categoria de uso do solo em que se inserem, minorado de 0,1 na área \\nabrangida pelo corredor verde complementar.\\n6 — Deve ser evitada a edificação abaixo da cota de terreno existente.\\n7 — O disposto nos n.os 5 e 6 não é aplicável às parcelas inseridas nas subcategorias de Área \\nVerde de Acesso Público e Área Verde de Elevado Valor Ecológico.\\n8 — Devem privilegiar -se intervenções de valorização ambiental, designadamente, direcionadas \\npara a utilização de coberturas verdes, de pavimentos permeáveis e do aproveitamento das águas \\npluviais para rega e limpeza dos espaços exteriores.\\n', 'TITULO IV - DOS SISTEMAS URBANOS - CAPITULO II - SISTEMA AMBIENTAL - SECÇÃO III - ZONAMENTO ACÚSTICO\\nArtigo 82.º\\nZonas de conflito ou sobre -exposição\\n1 — As zonas de conflito são as áreas em que o ruído exterior ultrapassa os limites previstos \\nno RGR.\\n2 — A disciplina destas zonas fica condicionada ao cumprimento do PMRR em vigor.\\n', 'TITULO IV - DOS SISTEMAS URBANOS - CAPITULO II - SISTEMA AMBIENTAL - SECÇÃO I - ESTRUTURA ECOLÓGICA MUNICIPAL - SUBSECÇÃO III - CORREDORES VERDES\\nArtigo 69.º\\nÂmbito e objetivos\\n1 — Os corredores verdes constituem uma rede estruturante de sistemas naturais relevantes, \\nque têm por suporte o sistema húmido e os espaços verdes fundamentais.\\n2 — Encontram -se estruturados em corredores principais, corredores complementares e rede \\nde conexão.\\n3 — Os corredores verdes têm por objetivo garantir a continuidade da estrutura ecológica, a \\ncoesão e o reforço da paisagem de forma sistémica, potenciando a qualidade do ambiente urbano, \\na salvaguarda da circulação da água, do ar e dos nutrientes, a implementação do contínuo natural \\ncomo suporte à sustentabilidade e resiliência da cidade face às alterações climáticas.\\n', 'TITULO V - PEREQUAÇÃO, FINANCIAMENTO E EXECUÇÃO - CAPÍTULO II - REGIME ECONÓMICO-FINANCEIRO - SECÇÃO III - ZONAMENTO INCLUSIVO E INCENTIVOS\\nArtigo 142.º\\nFomento da diversidade social no Centro da Cidade (Zonamento Inclusivo)\\n1 — O Zonamento Inclusivo pretende assegurar a disponibilização de habitação acessível \\n através do mercado imobiliário privado, promovendo a diversidade social em zonas urbanas \\n\\n sujeitas a processos seletivos de exclusão e segmentação residencial por efeito do forte \\naumento dos preços de mercado imobiliário.\\n2 — Nas operações urbanísticas localizadas na Área de Zonamento Inclusivo, delimitada \\nem planta constante em regulamento municipal, em que ocorra nova construção, ampliação ou \\nalteração de uso, é afeta a habitação acessível, por um prazo não inferior a 25 anos, uma parte da \\nedificabilidade totalizando:\\na) Uma área ≥ (ae+1200) × 2,5 %, para as operações com edificabilidade entre 1.500 m2ae \\ne 2.000 m2ae;\\nb) Uma área ≥ (ae -1600) × 20 % para as operações com uma edificabilidade ≥ 2000 m2ae;\\nc) Ou, em alternativa, é cedida ao Município uma parcela (ou parcelas) com a edificabilidade \\nreferida na alínea a) ou b), conforme a situação, ou pagamento de valor monetário a reverter para \\no FMSAU de acordo com as condições previstas em regulamento municipal.\\n', 'TITULO III - USO DO SOLO - CAPÍTULO III - QUALIFICAÇÃO FUNCIONAL - SECÇÃO II - ESPAÇOS CENTRAIS - SUBSECÇÃO III - ÁREA DE FRENTE URBANA CONTÍNUA DE TIPO II\\nArtigo 26.º\\nÂmbito e Objetivos\\nAs áreas de frente urbana contínua do tipo II correspondem às áreas estruturadas em quarteirão \\ncom edifícios localizados, predominantemente, à face dos arruamentos, em que o espaço público \\nse encontra definido e em que as frentes urbanas edificadas estão em processo de transformação \\nconstrutiva e de uso, pretendendo -se a manutenção e reestruturação das malhas e a consolidação \\ndo tipo de relação do edificado com o espaço público existente, designadamente, a uniformidade \\nda frente urbana.\\n', 'TITULO V - PEREQUAÇÃO, FINANCIAMENTO E EXECUÇÃO - CAPÍTULO III - EXECUÇÃO - SECÇÃO II - UNIDADES OPERATIVAS DE PLANEAMENTO E GESTÃO\\nArtigo 158.º\\nEnquadramento\\n1 — As unidades operativas de planeamento e gestão (UOPG), assim identificadas na Planta \\nde Ordenamento — Carta de Qualificação do Solo, correspondem a áreas que, tendo em vista a \\nsua estruturação, valorização e integração no tecido urbano, justificam uma normativa específica.\\n2 — Nas UOPG, a execução do Plano é, em princípio, sistemática, obedecendo ao estabelecido \\nnos artigos 153.º a 156.º, com recurso a uma ou várias unidades de execução.\\n3 — As UOPG podem ser ajustadas nos seus limites por razões cadastrais ou decorrentes \\nda solução urbanística a adotar.\\n4 — São ainda admitidos dentro das UOPG acertos dos limites de categorias e subcategoriais \\nda qualificação funcional do solo decorrentes do maior detalhe do desenho que acompanhe a ope-\\nração, desde que não haja variações superiores a 3 % do peso relativos das diferentes categorias \\ne subcategorias.\\n5 — São estabelecidos para cada UOPG, nos artigos seguintes: objetivos, parâmetros urba-\\nnísticos, formas de execução e prazo de execução.\\n6 — A subdivisão em várias unidades de execução, tal como o disposto no n.º 2, não dispensa o \\ncabal cumprimento das regras perequativas, relativas a edificabilidade e a encargos urbanísticos.\\n', 'TITULO III - USO DO SOLO - CAPÍTULO I - CLASSIFICAÇÃO E QUALIFICAÇÃO DO SOLO\\nArtigo 11.º\\nQualificação Operativa e Funcional\\n1 — Do ponto de vista operativo, o território do Município integra duas categorias de espaço \\nurbano delimitadas na Planta de Ordenamento tendo em consideração o grau de urbanização do \\nsolo e a sua consolidação morfológica:\\na) Espaços consolidados;\\nb) Espaços em consolidação.\\n2 — A qualificação funcional do solo processa -se através da sua integração nas seguintes \\ncategorias de solo, em função da sua utilização dominante:\\na) Espaços centrais;\\nb) Espaços de atividades económicas;\\nc) Espaços verdes e Frente atlântica e ribeirinha;\\nd) Espaços urbanos de baixa densidade;\\ne) Espaços de uso especial de equipamentos;\\nf) Espaços de uso especial de infraestruturas.\\n3 — Para além dos usos dominantes, a cada categoria ou subcategoria de espaços podem \\nser associados usos complementares destes e ainda, eventualmente, outros usos que sejam com-\\npatíveis com os primeiros.\\n', 'TITULO IV - DOS SISTEMAS URBANOS - CAPITULO II - SISTEMA AMBIENTAL - SECÇÃO III - ZONAMENTO ACÚSTICO\\nArtigo 81.º\\nZonas mistas\\n1 — As zonas mistas correspondem à área do território municipal não classificada como zona \\nsensível.\\n2 — Nas operações urbanísticas a realizar em zonas mistas devem ser respeitados os parâ-\\nmetros estabelecidos no RGR em vigor e mitigados os níveis de sobre -exposição de acordo com \\nplano municipal de redução de ruído (PMRR).\\n', 'TITULO I - DISPOSIÇÕES GERAIS\\nArtigo 4.º\\nInstrumentos de gestão territorial\\nNo território abrangido pelo PDMP vigoram os seguintes instrumentos de gestão territorial:\\na) Programa Nacional da Política de Ordenamento do Território (PNPOT);\\nb) Programa Nacional para as Alterações Climáticas (PNAC);\\nc) Plano Rodoviário Nacional (PRN);\\nd) Plano Nacional da Água (PNA);\\ne) Programa Regional de Ordenamento Florestal — Entre Douro e Minho (PROF -EDM);\\nf) Programa da Orla Costeira Caminha — Espinho (POC -CE) (Contém as alterações por adap-\\ntação, nos termos do artigo 121.º do RJIGT, promovidas por deliberação da Câmara Municipal do \\nPorto, em reunião de 06 de dezembro de 2021, procedimento publicado em DRE, através do Aviso \\nn.º 1327/2022, de 20 de janeiro);\\ng) Plano de Gestão da Região Hidrográfica do Douro (PGRH -RH3);\\nh) Plano de Gestão dos Riscos de Inundações da Região Hidrográfica do Douro (PGRI -RH3);\\ni) Plano de Gestão da Região Hidrográfica do Cávado, Ave e Leça (PGRH -RH2);\\nj) Plano de Gestão dos Riscos de Inundações da Região Hidrográfica do Cávado, Ave e Leça \\n(PGRI -RH2);\\nk) Plano de Pormenor das Antas;\\nl) Plano de Pormenor do Dallas.\\n', 'TITULO IV - DOS SISTEMAS URBANOS - CAPITULO II - SISTEMA AMBIENTAL - SECÇÃO III - ZONAMENTO ACÚSTICO\\nArtigo 80.º\\nZonas sensíveis\\n1 — Constituem zonas sensíveis os espaços verdes de acesso público da Planta de Ordenamen-\\nto — Carta de Estrutura Ecológica Municipal e as áreas verdes associadas a equipamento da Planta de \\nOrdenamento — Carta de Qualificação do Solo, com dimensão igual ou superior a 10.000 m2 e desde \\nque não se encontrem na área envolvente de infraestruturas viárias com níveis de ruído elevados.\\n2 — Nas operações urbanísticas em zonas sensíveis devem ser respeitados os parâmetros \\nestabelecidos no RGR em vigor.\\n', 'TITULO IV - DOS SISTEMAS URBANOS - CAPITULO III - SISTEMA PATRIMONIAL - SECÇÃO II - PATRIMÓNIO ARQUEOLÓGICO\\nArtigo 96.º\\nÁreas de salvaguarda arqueológica\\nSão áreas de salvaguarda arqueológica, devidamente identificadas na Planta de Ordena-\\nmento — Carta de Património II:\\na) As Áreas de Valor Arqueológico (AVA), que correspondem aos perímetros de proteção arque-\\nológica definidos com base em intervenções arqueológicas ou achados devidamente localizados, \\nonde foram identificados vestígios arqueológicos — estruturas, construções, depósitos estratificados \\nou particulares concentrações de artefactos.\\nb) As Áreas de Potencial Valor Arqueológico (APA), definidas com base em referências \\n documentais, toponímicas, achados arqueológicos cuja localização exata se desconhece, locais \\ncom condições geomorfológicas que indiciam ocupação humana histórica ou pré -histórica, troços \\nde antigas vias de comunicação, correspondem a áreas de potencial interesse arqueológico, cuja \\nnatureza, extensão e estado de conservação carece de confirmação.\\n', 'TITULO III - USO DO SOLO - CAPÍTULO II - QUALIFICAÇÃO OPERATIVA\\nArtigo 13.º\\nÂmbito, Objetivos e Execução dos espaços em consolidação\\n1 — Os espaços em consolidação integram áreas que requerem uma reestruturação profunda, \\ntais como, grandes parcelas de terreno pouco ou desorganizadamente edificadas, zonas industriais \\nobsoletas, grandes equipamentos ou quarteirões desativados.\\n2 — Nas áreas em consolidação, a execução do Plano realiza -se nos termos definidos do \\ntítulo V — Perequação, Financiamento e Execução.\\n', 'TITULO IV - DOS SISTEMAS URBANOS - CAPITULO II - SISTEMA AMBIENTAL - SECÇÃO III - ZONAMENTO ACÚSTICO\\nArtigo 79.º\\nObjetivos\\nA identificação das zonas sensíveis e das zonas mistas que consta da Planta de Ordena-\\nmento — Carta de Zonamento Acústico, tem como objetivo a melhoria do ambiente sonoro e ade-\\nquação das funções urbanas às características das zonas em que se inserem, tendo em conta o \\nregulamento geral do ruído (RGR).\\n', 'TITULO IV - DOS SISTEMAS URBANOS - CAPITULO II - SISTEMA AMBIENTAL - SECÇÃO II - ÁREAS SUJEITAS A RISCOS NATURAIS - SUBSECÇÃO II - OUTROS RISCOS NATURAIS\\nArtigo 77.º\\nÁreas Inundáveis\\n1 — As áreas inundáveis correspondem às áreas contíguas à margem dos rios Douro, Tinto \\ne Torto e das ribeiras da Asprela, Granja, Nevogilde, Ervilha, Currais e Cartes, determinadas para \\num período de retorno de 100 anos.\\n2 — Estas áreas devem preferencialmente ser reservadas à criação de zonas verdes com \\ncoberto vegetal adequado, de forma a aumentar a permeabilidade do solo e a infiltração da água.\\n3 — Nas áreas inundáveis estão interditas as seguintes ações:\\na) Alteração dos usos de utilização dos edifícios existentes para equipamentos de utilização \\ncoletiva, designadamente, hospitais, centros de saúde, escolas, quartéis de bombeiros e forças \\nde segurança;\\nb) Realização de obras suscetíveis de obstruir a livre circulação do sistema de escoamento \\nnatural.\\n4 — Admite -se a construção e ampliação do edificado, bem como alterações de utilização, \\nsem prejuízo da alínea a) do número anterior, desde que não exista alternativa viável para a sua \\nlocalização e desde que as cotas dos pisos inferiores sejam superiores à cota local da máxima \\ncheia conhecida.\\n5 — Nos pisos inferiores à cota local de máxima cheia conhecida apenas são permitidas obras \\nde reconstrução e alteração, desde que não diminua a cota de piso.\\n'}\n",
      "---------------------\n",
      "\n",
      "Given the the location classification and the texts from the Plano Director Municipal that are provided, answer the question.\n",
      "\n",
      "Question: O que é que se pode construir aqui e quais as restrições?\n",
      "Answer:\n",
      "\n"
     ]
    }
   ],
   "source": [
    "print(question_prompt)"
   ]
  },
  {
   "cell_type": "code",
   "execution_count": 87,
   "metadata": {},
   "outputs": [],
   "source": [
    "messages = [\n",
    "            {\n",
    "                \"role\": \"system\",\n",
    "                \"content\": system_prompt,\n",
    "            },\n",
    "            {\"role\": \"user\", \"content\": question_prompt},\n",
    "        ]\n",
    "chat_response = client.chat.complete(\n",
    "            model=model, messages=messages, temperature=0\n",
    "        )"
   ]
  },
  {
   "cell_type": "code",
   "execution_count": 88,
   "metadata": {},
   "outputs": [
    {
     "name": "stdout",
     "output_type": "stream",
     "text": [
      "De acordo com a classificação da localização e os artigos fornecidos do Plano Diretor Municipal, a área em questão é uma \"Área de frente urbana contínua do tipo II\" em \"Espaço consolidado\", situada em um \"Corredor Verde Complementar\" e \"Área de Aluvião\", dentro da \"Zona mista\" de zonamento acústico. Aqui estão as restrições e possibilidades de construção com base nos artigos relevantes:\n",
      "\n",
      "1. **Área de Frente Urbana Contínua do Tipo II**:\n",
      "   - **Artigo 26.º**: As áreas de frente urbana contínua do tipo II são áreas estruturadas em quarteirão com edifícios localizados, predominantemente, à face dos arruamentos. Pretende-se a manutenção e reestruturação das malhas e a consolidação do tipo de relação do edificado com o espaço público existente, designadamente, a uniformidade da frente urbana.\n",
      "   - **Artigo 28.º**: Os logradouros e interior dos quarteirões devem ser permeáveis, sendo ocupados por coberto vegetal. Admite-se a criação de espaços de circulação, estadia, e/ou um anexo com o máximo de 10 m2, desde que não comprometa a existência de um índice de permeabilidade de 0,3 da área da parcela.\n",
      "\n",
      "2. **Espaço Consolidado**:\n",
      "   - **Artigo 13.º**: Em espaços consolidados, a execução do Plano processa-se nos termos definidos do título V — Perequação, Financiamento e Execução.\n",
      "   - **Artigo 153.º**: Em espaço em consolidação, a execução do Plano é, dominantemente, sistemática, com recurso a unidades de execução. O Município pode autorizar operações urbanísticas avulsas em certas situações específicas.\n",
      "\n",
      "3. **Corredor Verde Complementar**:\n",
      "   - **Artigo 71.º**: Deve ser promovida a continuidade física destes corredores, garantindo a conectividade da mancha verde, privilegiando a permeabilidade do solo, reforçando a galeria ripícola e promovendo sistemas de drenagem sustentável. Quando associados a cursos de água a céu aberto, deve garantir-se uma faixa de 5 metros, para além da margem legalmente estabelecida, livre de edificação. As intervenções devem cumprir o índice de impermeabilização associado à categoria de uso do solo em que se inserem, minorado de 0,1 na área abrangida pelo corredor verde complementar. Deve ser evitada a edificação abaixo da cota de terreno existente.\n",
      "\n",
      "4. **Área de Aluvião**:\n",
      "   - **Artigo 63.º**: As operações urbanísticas devem promover a permeabilidade do solo, quer através da renaturalização das linhas de água, quer através da promoção de espaços verdes. São interditas atividades que possam contaminar a água e o solo. Não é permitida a renovação dos títulos da concessão de postos de abastecimento de combustível existentes nestas áreas.\n",
      "\n",
      "5. **Zona Mista de Zonamento Acústico**:\n",
      "   - **Artigo 81.º**: Nas operações urbanísticas a realizar em zonas mistas devem ser respeitados os parâmetros estabelecidos no RGR em vigor e mitigados os níveis de sobre-exposição de acordo com o plano municipal de redução de ruído (PMRR).\n",
      "\n",
      "**Restrições e Possibilidades de Construção**:\n",
      "- **Permitido**: Construção de edifícios à face dos arruamentos, mantendo a uniformidade da frente urbana. Criação de espaços de circulação, estadia, e/ou um anexo com o máximo de 10 m2, desde que não comprometa a permeabilidade do solo.\n",
      "- **Restrições**: Deve ser garantida uma faixa de 5 metros livre de edificação ao longo de cursos de água a céu aberto. Evitar a edificação abaixo da cota de terreno existente. Interditadas atividades que possam contaminar a água e o solo. Respeitar os parâmetros acústicos estabelecidos no RGR e PMRR.\n",
      "\n",
      "Estas diretrizes devem ser seguidas para qualquer construção ou intervenção urbanística na área classificada.\n"
     ]
    }
   ],
   "source": [
    "print(chat_response.choices[0].message.content)"
   ]
  },
  {
   "cell_type": "code",
   "execution_count": null,
   "metadata": {},
   "outputs": [],
   "source": []
  }
 ],
 "metadata": {
  "kernelspec": {
   "display_name": "Python 3",
   "language": "python",
   "name": "python3"
  },
  "language_info": {
   "codemirror_mode": {
    "name": "ipython",
    "version": 3
   },
   "file_extension": ".py",
   "mimetype": "text/x-python",
   "name": "python",
   "nbconvert_exporter": "python",
   "pygments_lexer": "ipython3",
   "version": "3.10.0"
  }
 },
 "nbformat": 4,
 "nbformat_minor": 2
}
